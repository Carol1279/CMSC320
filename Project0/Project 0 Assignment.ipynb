{
 "cells": [
  {
   "cell_type": "markdown",
   "metadata": {},
   "source": [
    "This assignment is intended to ensure that you are able to edit and submit Jupyter Notebooks. \n",
    "\n",
    "The goal is to write a function to count the frequency of different characters in a given string. For example: character_frequency('google') should return a `dict`: {'g': 2, 'o': 2, 'l': 1, 'e': 1}. \n",
    "\n",
    "There are many tutorials on the web that can show you how to use the Python data structures. Quite a few examples at: https://docs.python.org/3/tutorial/datastructures.html\n",
    "\n",
    "If you have any trouble with this at all (and we are sure at least some of you will), don't worry and stop by our office hours.\n",
    "\n",
    "You should edit the function definition below, make sure to press 'Shift + Enter' to execute it, and then execute the two function calls to check that the output is correct."
   ]
  },
  {
   "cell_type": "code",
   "execution_count": 11,
   "metadata": {},
   "outputs": [],
   "source": [
    "def character_frequency(s):\n",
    "    frequencies = {}\n",
    "    for char in s: \n",
    "       if char in frequencies: \n",
    "          frequencies[char] += 1\n",
    "       else: \n",
    "          frequencies[char] = 1\n",
    "    out = print (\"{}\".format(str(frequencies)))\n",
    "    return out"
   ]
  },
  {
   "cell_type": "code",
   "execution_count": 12,
   "metadata": {},
   "outputs": [
    {
     "name": "stdout",
     "output_type": "stream",
     "text": [
      "{'g': 2, 'o': 2, 'l': 1, 'e': 1}\n"
     ]
    }
   ],
   "source": [
    "character_frequency('google')"
   ]
  },
  {
   "cell_type": "code",
   "execution_count": 13,
   "metadata": {},
   "outputs": [
    {
     "name": "stdout",
     "output_type": "stream",
     "text": [
      "{'T': 1, 'h': 2, 'i': 6, 's': 7, ' ': 15, 'a': 5, 'g': 1, 'n': 6, 'm': 2, 'e': 10, 't': 10, 'd': 4, 'o': 6, 'u': 4, 'r': 3, 'y': 2, 'b': 3, 'l': 1, 'J': 1, 'p': 1, 'N': 1, 'k': 1, '.': 1}\n"
     ]
    }
   ],
   "source": [
    "character_frequency('This assignment is intended to ensure that you are able to edit and submit Jupyter Notebooks.')"
   ]
  },
  {
   "cell_type": "code",
   "execution_count": null,
   "metadata": {},
   "outputs": [],
   "source": []
  },
  {
   "cell_type": "code",
   "execution_count": null,
   "metadata": {},
   "outputs": [],
   "source": []
  }
 ],
 "metadata": {
  "kernelspec": {
   "display_name": "Python 3",
   "language": "python",
   "name": "python3"
  },
  "language_info": {
   "codemirror_mode": {
    "name": "ipython",
    "version": 3
   },
   "file_extension": ".py",
   "mimetype": "text/x-python",
   "name": "python",
   "nbconvert_exporter": "python",
   "pygments_lexer": "ipython3",
   "version": "3.8.5"
  }
 },
 "nbformat": 4,
 "nbformat_minor": 2
}
